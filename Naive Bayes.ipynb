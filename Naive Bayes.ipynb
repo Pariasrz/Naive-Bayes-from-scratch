{
 "cells": [
  {
   "cell_type": "markdown",
   "metadata": {},
   "source": [
    "**Loading Dataset and Preprocessing**"
   ]
  },
  {
   "cell_type": "code",
   "execution_count": 1,
   "metadata": {},
   "outputs": [
    {
     "data": {
      "text/html": [
       "<div>\n",
       "<style scoped>\n",
       "    .dataframe tbody tr th:only-of-type {\n",
       "        vertical-align: middle;\n",
       "    }\n",
       "\n",
       "    .dataframe tbody tr th {\n",
       "        vertical-align: top;\n",
       "    }\n",
       "\n",
       "    .dataframe thead th {\n",
       "        text-align: right;\n",
       "    }\n",
       "</style>\n",
       "<table border=\"1\" class=\"dataframe\">\n",
       "  <thead>\n",
       "    <tr style=\"text-align: right;\">\n",
       "      <th></th>\n",
       "      <th>id</th>\n",
       "      <th>age_days</th>\n",
       "      <th>age_year</th>\n",
       "      <th>gender</th>\n",
       "      <th>height</th>\n",
       "      <th>weight</th>\n",
       "      <th>ap_hi</th>\n",
       "      <th>ap_lo</th>\n",
       "      <th>cholesterol</th>\n",
       "      <th>gluc</th>\n",
       "      <th>smoke</th>\n",
       "      <th>alco</th>\n",
       "      <th>active</th>\n",
       "      <th>cardio</th>\n",
       "    </tr>\n",
       "  </thead>\n",
       "  <tbody>\n",
       "    <tr>\n",
       "      <th>0</th>\n",
       "      <td>0</td>\n",
       "      <td>18393</td>\n",
       "      <td>50.391781</td>\n",
       "      <td>2</td>\n",
       "      <td>168</td>\n",
       "      <td>62.0</td>\n",
       "      <td>110</td>\n",
       "      <td>80</td>\n",
       "      <td>1</td>\n",
       "      <td>1</td>\n",
       "      <td>0</td>\n",
       "      <td>0</td>\n",
       "      <td>1</td>\n",
       "      <td>0</td>\n",
       "    </tr>\n",
       "    <tr>\n",
       "      <th>1</th>\n",
       "      <td>1</td>\n",
       "      <td>20228</td>\n",
       "      <td>55.419178</td>\n",
       "      <td>1</td>\n",
       "      <td>156</td>\n",
       "      <td>85.0</td>\n",
       "      <td>140</td>\n",
       "      <td>90</td>\n",
       "      <td>3</td>\n",
       "      <td>1</td>\n",
       "      <td>0</td>\n",
       "      <td>0</td>\n",
       "      <td>1</td>\n",
       "      <td>1</td>\n",
       "    </tr>\n",
       "    <tr>\n",
       "      <th>2</th>\n",
       "      <td>2</td>\n",
       "      <td>18857</td>\n",
       "      <td>51.663014</td>\n",
       "      <td>1</td>\n",
       "      <td>165</td>\n",
       "      <td>64.0</td>\n",
       "      <td>130</td>\n",
       "      <td>70</td>\n",
       "      <td>3</td>\n",
       "      <td>1</td>\n",
       "      <td>0</td>\n",
       "      <td>0</td>\n",
       "      <td>0</td>\n",
       "      <td>1</td>\n",
       "    </tr>\n",
       "    <tr>\n",
       "      <th>3</th>\n",
       "      <td>3</td>\n",
       "      <td>17623</td>\n",
       "      <td>48.282192</td>\n",
       "      <td>2</td>\n",
       "      <td>169</td>\n",
       "      <td>82.0</td>\n",
       "      <td>150</td>\n",
       "      <td>100</td>\n",
       "      <td>1</td>\n",
       "      <td>1</td>\n",
       "      <td>0</td>\n",
       "      <td>0</td>\n",
       "      <td>1</td>\n",
       "      <td>1</td>\n",
       "    </tr>\n",
       "    <tr>\n",
       "      <th>4</th>\n",
       "      <td>4</td>\n",
       "      <td>17474</td>\n",
       "      <td>47.873973</td>\n",
       "      <td>1</td>\n",
       "      <td>156</td>\n",
       "      <td>56.0</td>\n",
       "      <td>100</td>\n",
       "      <td>60</td>\n",
       "      <td>1</td>\n",
       "      <td>1</td>\n",
       "      <td>0</td>\n",
       "      <td>0</td>\n",
       "      <td>0</td>\n",
       "      <td>0</td>\n",
       "    </tr>\n",
       "  </tbody>\n",
       "</table>\n",
       "</div>"
      ],
      "text/plain": [
       "   id  age_days   age_year  gender  height  weight  ap_hi  ap_lo  cholesterol  \\\n",
       "0   0     18393  50.391781       2     168    62.0    110     80            1   \n",
       "1   1     20228  55.419178       1     156    85.0    140     90            3   \n",
       "2   2     18857  51.663014       1     165    64.0    130     70            3   \n",
       "3   3     17623  48.282192       2     169    82.0    150    100            1   \n",
       "4   4     17474  47.873973       1     156    56.0    100     60            1   \n",
       "\n",
       "   gluc  smoke  alco  active  cardio  \n",
       "0     1      0     0       1       0  \n",
       "1     1      0     0       1       1  \n",
       "2     1      0     0       0       1  \n",
       "3     1      0     0       1       1  \n",
       "4     1      0     0       0       0  "
      ]
     },
     "execution_count": 1,
     "metadata": {},
     "output_type": "execute_result"
    }
   ],
   "source": [
    "import numpy as np\n",
    "import pandas as pd\n",
    "from scipy import stats\n",
    "\n",
    "data = (pd.read_csv(r'data.csv'))\n",
    "\n",
    "data.head()"
   ]
  },
  {
   "cell_type": "code",
   "execution_count": 2,
   "metadata": {},
   "outputs": [
    {
     "name": "stdout",
     "output_type": "stream",
     "text": [
      "<class 'pandas.core.frame.DataFrame'>\n",
      "RangeIndex: 70000 entries, 0 to 69999\n",
      "Data columns (total 14 columns):\n",
      " #   Column       Non-Null Count  Dtype  \n",
      "---  ------       --------------  -----  \n",
      " 0   id           70000 non-null  int64  \n",
      " 1   age_days     70000 non-null  int64  \n",
      " 2   age_year     70000 non-null  float64\n",
      " 3   gender       70000 non-null  int64  \n",
      " 4   height       70000 non-null  int64  \n",
      " 5   weight       70000 non-null  float64\n",
      " 6   ap_hi        70000 non-null  int64  \n",
      " 7   ap_lo        70000 non-null  int64  \n",
      " 8   cholesterol  70000 non-null  int64  \n",
      " 9   gluc         70000 non-null  int64  \n",
      " 10  smoke        70000 non-null  int64  \n",
      " 11  alco         70000 non-null  int64  \n",
      " 12  active       70000 non-null  int64  \n",
      " 13  cardio       70000 non-null  int64  \n",
      "dtypes: float64(2), int64(12)\n",
      "memory usage: 7.5 MB\n"
     ]
    }
   ],
   "source": [
    "data.info()"
   ]
  },
  {
   "cell_type": "code",
   "execution_count": 3,
   "metadata": {},
   "outputs": [],
   "source": [
    "#dropping unnecessary features\n",
    "data = data.drop(columns=['id','age_days'])"
   ]
  },
  {
   "cell_type": "markdown",
   "metadata": {},
   "source": [
    "**Splitting Dataset (dataSplit Function)**"
   ]
  },
  {
   "cell_type": "code",
   "execution_count": 4,
   "metadata": {},
   "outputs": [],
   "source": [
    "def dataSplit(alldata, percentatgeOfTrain):\n",
    "    Y = alldata.iloc[: , -1]\n",
    "    targets = Y.unique()\n",
    "    temp = []\n",
    "    temp_2 = []\n",
    "    \n",
    "    #splitting based on target values\n",
    "    for target in targets:\n",
    "        df = alldata[alldata.iloc[:, -1] == target]\n",
    "        temp.append(df)\n",
    "    \n",
    "    #splitting data based on percentage\n",
    "    train = []\n",
    "    test = []\n",
    "    for df in temp:\n",
    "        num_of_rows = int(len(df) * percentatgeOfTrain)\n",
    "        train.append(df[:num_of_rows])\n",
    "        test.append(df[num_of_rows:])\n",
    "    \n",
    "    #concatting dataframes in train and test lists\n",
    "    train_data = pd.concat(train)\n",
    "    test_data = pd.concat(test)\n",
    "        \n",
    "    return train_data, test_data\n",
    "    \n",
    "data = dataSplit(data, 0.8)"
   ]
  },
  {
   "cell_type": "markdown",
   "metadata": {},
   "source": [
    "**Printing the Probablity Table (fitNaive and printNaive Functions)**"
   ]
  },
  {
   "cell_type": "code",
   "execution_count": 5,
   "metadata": {},
   "outputs": [
    {
     "data": {
      "text/plain": [
       "{0: {'age_year': {'Type': 'Numeric',\n",
       "   'Mean': 53.33369553810605,\n",
       "   'Std': 6.766390938021898},\n",
       "  'gender': {'Type': 'Nominal', 2: 0.3439540443144111, 1: 0.6557248367645485},\n",
       "  'height': {'Type': 'Numeric',\n",
       "   'Mean': 164.3517741388239,\n",
       "   'Std': 8.195745566330928},\n",
       "  'weight': {'Type': 'Numeric',\n",
       "   'Mean': 74.21586456901017,\n",
       "   'Std': 14.346868059143905},\n",
       "  'ap_hi': {'Type': 'Numeric',\n",
       "   'Mean': 129.23652208075146,\n",
       "   'Std': 171.52513143676984},\n",
       "  'ap_lo': {'Type': 'Numeric',\n",
       "   'Mean': 96.63285058661762,\n",
       "   'Std': 194.2709566658545},\n",
       "  'cholesterol': {'Type': 'Nominal',\n",
       "   1: 0.8385842223570129,\n",
       "   2: 0.10839547579120135,\n",
       "   3: 0.052734862810860955},\n",
       "  'gluc': {'Type': 'Nominal',\n",
       "   1: 0.8810789595746958,\n",
       "   2: 0.060548756556177974,\n",
       "   3: 0.058086844828201374},\n",
       "  'smoke': {'Type': 'Nominal', 0: 0.906483034217005, 1: 0.09319584686195455},\n",
       "  'alco': {'Type': 'Nominal', 0: 0.9438755485781568, 1: 0.0558033325008028},\n",
       "  'active': {'Type': 'Nominal',\n",
       "   1: 0.8175687729689228,\n",
       "   0: 0.18211010811003675}},\n",
       " 1: {'age_year': {'Type': 'Numeric',\n",
       "   'Mean': 53.33369553810605,\n",
       "   'Std': 6.766390938021898},\n",
       "  'gender': {'Type': 'Nominal', 2: 0.34978924055154675, 1: 0.649889261984711},\n",
       "  'height': {'Type': 'Numeric',\n",
       "   'Mean': 164.3517741388239,\n",
       "   'Std': 8.195745566330928},\n",
       "  'weight': {'Type': 'Numeric',\n",
       "   'Mean': 74.21586456901017,\n",
       "   'Std': 14.346868059143905},\n",
       "  'ap_hi': {'Type': 'Numeric',\n",
       "   'Mean': 129.23652208075146,\n",
       "   'Std': 171.52513143676984},\n",
       "  'ap_lo': {'Type': 'Numeric',\n",
       "   'Mean': 96.63285058661762,\n",
       "   'Std': 194.2709566658545},\n",
       "  'cholesterol': {'Type': 'Nominal',\n",
       "   1: 0.6594270200757305,\n",
       "   2: 0.16474958919768523,\n",
       "   3: 0.17553761520325784},\n",
       "  'gluc': {'Type': 'Nominal',\n",
       "   1: 0.8177823819389869,\n",
       "   2: 0.08737586625705508,\n",
       "   3: 0.09455597628063156},\n",
       "  'smoke': {'Type': 'Nominal', 0: 0.9171250982353362, 1: 0.08255340430092163},\n",
       "  'alco': {'Type': 'Nominal', 0: 0.948774737443738, 1: 0.05090376509251983},\n",
       "  'active': {'Type': 'Nominal', 1: 0.789419161248839, 0: 0.21025934128741874}}}"
      ]
     },
     "execution_count": 5,
     "metadata": {},
     "output_type": "execute_result"
    }
   ],
   "source": [
    "def fitNaive(trainData):\n",
    "    Dict = {} #using a dictionary as probablity table\n",
    "    X = trainData.iloc[: , :-1]\n",
    "    Y = trainData.iloc[: , -1]\n",
    "    targets = Y.unique()\n",
    "    for target in targets:\n",
    "        Dict[target] = {}\n",
    "        for i in X.columns:\n",
    "            Dict[target][i] = {}\n",
    "            uniqueValues = X[i].unique()\n",
    "            if(all(np.diff(uniqueValues) == np.diff(uniqueValues)[0])): #detecting nominal features\n",
    "                for j in uniqueValues:\n",
    "                    Dict[target][i][\"Type\"] = \"Nominal\"\n",
    "                    #computing probablity for each nominal feature + Laplace Estimator\n",
    "                    Dict[target][i][j] = (1+ (len(trainData[(trainData[i] == j) & \n",
    "                        (trainData.iloc[: , -1] == target)])))/(len(X.columns) + len(Y[(Y == target)]))\n",
    "            else:\n",
    "                #handling numeric features\n",
    "                Dict[target][i][\"Type\"] = \"Numeric\"\n",
    "                Dict[target][i][\"Mean\"] = X[i].mean()\n",
    "                Dict[target][i][\"Std\"] = X.std()[i]                   \n",
    "    return Dict\n",
    "\n",
    "fitNaive(data[0])"
   ]
  },
  {
   "cell_type": "markdown",
   "metadata": {},
   "source": [
    "**Naive Bayes Prediction (predictNaive function)**"
   ]
  },
  {
   "cell_type": "code",
   "execution_count": 6,
   "metadata": {},
   "outputs": [],
   "source": [
    "import math\n",
    "def predictNaive(instance, table):\n",
    "    prob = {} #a dictionary to save probability values for each class\n",
    "    for target in table:\n",
    "        score = 1 #considering probability as score\n",
    "        features = list(table[target].keys())\n",
    "        dim = len(features)\n",
    "        for i in range(dim): #this loop will compute score for each class\n",
    "            if table[target][features[i]][\"Type\"] == \"Numeric\":\n",
    "                mean = table[target][features[i]][\"Mean\"]\n",
    "                std = table[target][features[i]][\"Std\"]\n",
    "                \n",
    "                #Gaussian Probability Distribution for numeric features\n",
    "                temp = (1/(math.sqrt(2*math.pi)*std))*pow(math.e, -(pow(instance[i]-mean, 2)/(2*pow(std,2))))\n",
    "                score *= temp\n",
    "                \n",
    "            elif table[target][features[i]][\"Type\"] == \"Nominal\": \n",
    "                score *= table[target][features[i]][instance[i]]\n",
    "                \n",
    "        prob[target] = score\n",
    "    prediction = max(prob, key=prob.get) #finding the class with maximum score(probability)\n",
    "    return prediction"
   ]
  },
  {
   "cell_type": "markdown",
   "metadata": {},
   "source": [
    "**Testing Naive Bayes (testNaive Function)**"
   ]
  },
  {
   "cell_type": "code",
   "execution_count": 7,
   "metadata": {},
   "outputs": [],
   "source": [
    "def testNaive(model, testData):\n",
    "    predictions = []\n",
    "    testData = testData.values.tolist()\n",
    "    for instance in testData:\n",
    "        predictions.append(predictNaive(instance, model))\n",
    "    return predictions"
   ]
  },
  {
   "cell_type": "markdown",
   "metadata": {},
   "source": [
    "**Average Error Function**"
   ]
  },
  {
   "cell_type": "code",
   "execution_count": 8,
   "metadata": {},
   "outputs": [],
   "source": [
    "def avgErr(pred, actual):\n",
    "    err = 0\n",
    "    for i in range(len(pred)):\n",
    "        if pred[i] != actual[i]:\n",
    "            err += 1\n",
    "        else:\n",
    "            err += 0\n",
    "    avg_err = (1/(len(pred)))*err\n",
    "    return avg_err"
   ]
  },
  {
   "cell_type": "markdown",
   "metadata": {},
   "source": [
    "**Evaluation for Naive Bayes from Scratch**"
   ]
  },
  {
   "cell_type": "code",
   "execution_count": 9,
   "metadata": {},
   "outputs": [
    {
     "name": "stdout",
     "output_type": "stream",
     "text": [
      "Average Error(From Scratch):  40.897078780087135\n"
     ]
    }
   ],
   "source": [
    "model = fitNaive(data[0])\n",
    "scratch_pred = testNaive(model, data[1])\n",
    "print(\"Average Error(From Scratch): \", avgErr(scratch_pred, data[1].to_numpy()[:, -1])*100)"
   ]
  },
  {
   "cell_type": "markdown",
   "metadata": {},
   "source": [
    "**Naive Bayes Algorithm using sklearn library + Evaluation**"
   ]
  },
  {
   "cell_type": "code",
   "execution_count": 10,
   "metadata": {},
   "outputs": [
    {
     "name": "stdout",
     "output_type": "stream",
     "text": [
      "Average Error(From Scratch):  40.61852724805371\n"
     ]
    }
   ],
   "source": [
    "#Naive Bayes\n",
    "from sklearn.naive_bayes import GaussianNB\n",
    "NB = GaussianNB()\n",
    "model = NB.fit(data[0].to_numpy()[:, :-1], data[0].to_numpy()[:, -1])\n",
    "lib_pred = model.predict(data[1].to_numpy()[:, :-1])\n",
    "\n",
    "print(\"Average Error(From Scratch): \", avgErr(lib_pred, data[1].to_numpy()[:, -1])*100)"
   ]
  }
 ],
 "metadata": {
  "kernelspec": {
   "display_name": "Python 3",
   "language": "python",
   "name": "python3"
  },
  "language_info": {
   "codemirror_mode": {
    "name": "ipython",
    "version": 3
   },
   "file_extension": ".py",
   "mimetype": "text/x-python",
   "name": "python",
   "nbconvert_exporter": "python",
   "pygments_lexer": "ipython3",
   "version": "3.8.3"
  }
 },
 "nbformat": 4,
 "nbformat_minor": 4
}
